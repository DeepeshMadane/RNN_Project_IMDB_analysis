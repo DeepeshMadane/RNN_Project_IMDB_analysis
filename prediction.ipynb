{
 "cells": [
  {
   "cell_type": "code",
   "execution_count": 1,
   "metadata": {},
   "outputs": [],
   "source": [
    "import numpy as np\n",
    "import tensorflow as tf\n",
    "from tensorflow.keras.datasets import imdb\n",
    "from tensorflow.keras.preprocessing import sequence\n",
    "from tensorflow.keras.models import load_model"
   ]
  },
  {
   "cell_type": "code",
   "execution_count": 2,
   "metadata": {},
   "outputs": [],
   "source": [
    "word_index = imdb.get_word_index()\n",
    "reverse_word_index = {value:key for key,value in word_index.items()}\n"
   ]
  },
  {
   "cell_type": "code",
   "execution_count": 3,
   "metadata": {},
   "outputs": [
    {
     "name": "stderr",
     "output_type": "stream",
     "text": [
      "WARNING:absl:Compiled the loaded model, but the compiled metrics have yet to be built. `model.compile_metrics` will be empty until you train or evaluate the model.\n"
     ]
    },
    {
     "data": {
      "text/html": [
       "<pre style=\"white-space:pre;overflow-x:auto;line-height:normal;font-family:Menlo,'DejaVu Sans Mono',consolas,'Courier New',monospace\"><span style=\"font-weight: bold\">Model: \"sequential_2\"</span>\n",
       "</pre>\n"
      ],
      "text/plain": [
       "\u001b[1mModel: \"sequential_2\"\u001b[0m\n"
      ]
     },
     "metadata": {},
     "output_type": "display_data"
    },
    {
     "data": {
      "text/html": [
       "<pre style=\"white-space:pre;overflow-x:auto;line-height:normal;font-family:Menlo,'DejaVu Sans Mono',consolas,'Courier New',monospace\">┏━━━━━━━━━━━━━━━━━━━━━━━━━━━━━━━━━┳━━━━━━━━━━━━━━━━━━━━━━━━┳━━━━━━━━━━━━━━━┓\n",
       "┃<span style=\"font-weight: bold\"> Layer (type)                    </span>┃<span style=\"font-weight: bold\"> Output Shape           </span>┃<span style=\"font-weight: bold\">       Param # </span>┃\n",
       "┡━━━━━━━━━━━━━━━━━━━━━━━━━━━━━━━━━╇━━━━━━━━━━━━━━━━━━━━━━━━╇━━━━━━━━━━━━━━━┩\n",
       "│ embedding_2 (<span style=\"color: #0087ff; text-decoration-color: #0087ff\">Embedding</span>)         │ (<span style=\"color: #00d7ff; text-decoration-color: #00d7ff\">None</span>, <span style=\"color: #00af00; text-decoration-color: #00af00\">500</span>, <span style=\"color: #00af00; text-decoration-color: #00af00\">128</span>)       │     <span style=\"color: #00af00; text-decoration-color: #00af00\">1,280,000</span> │\n",
       "├─────────────────────────────────┼────────────────────────┼───────────────┤\n",
       "│ simple_rnn_2 (<span style=\"color: #0087ff; text-decoration-color: #0087ff\">SimpleRNN</span>)        │ (<span style=\"color: #00d7ff; text-decoration-color: #00d7ff\">None</span>, <span style=\"color: #00af00; text-decoration-color: #00af00\">128</span>)            │        <span style=\"color: #00af00; text-decoration-color: #00af00\">32,896</span> │\n",
       "├─────────────────────────────────┼────────────────────────┼───────────────┤\n",
       "│ dense_1 (<span style=\"color: #0087ff; text-decoration-color: #0087ff\">Dense</span>)                 │ (<span style=\"color: #00d7ff; text-decoration-color: #00d7ff\">None</span>, <span style=\"color: #00af00; text-decoration-color: #00af00\">1</span>)              │           <span style=\"color: #00af00; text-decoration-color: #00af00\">129</span> │\n",
       "└─────────────────────────────────┴────────────────────────┴───────────────┘\n",
       "</pre>\n"
      ],
      "text/plain": [
       "┏━━━━━━━━━━━━━━━━━━━━━━━━━━━━━━━━━┳━━━━━━━━━━━━━━━━━━━━━━━━┳━━━━━━━━━━━━━━━┓\n",
       "┃\u001b[1m \u001b[0m\u001b[1mLayer (type)                   \u001b[0m\u001b[1m \u001b[0m┃\u001b[1m \u001b[0m\u001b[1mOutput Shape          \u001b[0m\u001b[1m \u001b[0m┃\u001b[1m \u001b[0m\u001b[1m      Param #\u001b[0m\u001b[1m \u001b[0m┃\n",
       "┡━━━━━━━━━━━━━━━━━━━━━━━━━━━━━━━━━╇━━━━━━━━━━━━━━━━━━━━━━━━╇━━━━━━━━━━━━━━━┩\n",
       "│ embedding_2 (\u001b[38;5;33mEmbedding\u001b[0m)         │ (\u001b[38;5;45mNone\u001b[0m, \u001b[38;5;34m500\u001b[0m, \u001b[38;5;34m128\u001b[0m)       │     \u001b[38;5;34m1,280,000\u001b[0m │\n",
       "├─────────────────────────────────┼────────────────────────┼───────────────┤\n",
       "│ simple_rnn_2 (\u001b[38;5;33mSimpleRNN\u001b[0m)        │ (\u001b[38;5;45mNone\u001b[0m, \u001b[38;5;34m128\u001b[0m)            │        \u001b[38;5;34m32,896\u001b[0m │\n",
       "├─────────────────────────────────┼────────────────────────┼───────────────┤\n",
       "│ dense_1 (\u001b[38;5;33mDense\u001b[0m)                 │ (\u001b[38;5;45mNone\u001b[0m, \u001b[38;5;34m1\u001b[0m)              │           \u001b[38;5;34m129\u001b[0m │\n",
       "└─────────────────────────────────┴────────────────────────┴───────────────┘\n"
      ]
     },
     "metadata": {},
     "output_type": "display_data"
    },
    {
     "data": {
      "text/html": [
       "<pre style=\"white-space:pre;overflow-x:auto;line-height:normal;font-family:Menlo,'DejaVu Sans Mono',consolas,'Courier New',monospace\"><span style=\"font-weight: bold\"> Total params: </span><span style=\"color: #00af00; text-decoration-color: #00af00\">1,313,027</span> (5.01 MB)\n",
       "</pre>\n"
      ],
      "text/plain": [
       "\u001b[1m Total params: \u001b[0m\u001b[38;5;34m1,313,027\u001b[0m (5.01 MB)\n"
      ]
     },
     "metadata": {},
     "output_type": "display_data"
    },
    {
     "data": {
      "text/html": [
       "<pre style=\"white-space:pre;overflow-x:auto;line-height:normal;font-family:Menlo,'DejaVu Sans Mono',consolas,'Courier New',monospace\"><span style=\"font-weight: bold\"> Trainable params: </span><span style=\"color: #00af00; text-decoration-color: #00af00\">1,313,025</span> (5.01 MB)\n",
       "</pre>\n"
      ],
      "text/plain": [
       "\u001b[1m Trainable params: \u001b[0m\u001b[38;5;34m1,313,025\u001b[0m (5.01 MB)\n"
      ]
     },
     "metadata": {},
     "output_type": "display_data"
    },
    {
     "data": {
      "text/html": [
       "<pre style=\"white-space:pre;overflow-x:auto;line-height:normal;font-family:Menlo,'DejaVu Sans Mono',consolas,'Courier New',monospace\"><span style=\"font-weight: bold\"> Non-trainable params: </span><span style=\"color: #00af00; text-decoration-color: #00af00\">0</span> (0.00 B)\n",
       "</pre>\n"
      ],
      "text/plain": [
       "\u001b[1m Non-trainable params: \u001b[0m\u001b[38;5;34m0\u001b[0m (0.00 B)\n"
      ]
     },
     "metadata": {},
     "output_type": "display_data"
    },
    {
     "data": {
      "text/html": [
       "<pre style=\"white-space:pre;overflow-x:auto;line-height:normal;font-family:Menlo,'DejaVu Sans Mono',consolas,'Courier New',monospace\"><span style=\"font-weight: bold\"> Optimizer params: </span><span style=\"color: #00af00; text-decoration-color: #00af00\">2</span> (12.00 B)\n",
       "</pre>\n"
      ],
      "text/plain": [
       "\u001b[1m Optimizer params: \u001b[0m\u001b[38;5;34m2\u001b[0m (12.00 B)\n"
      ]
     },
     "metadata": {},
     "output_type": "display_data"
    }
   ],
   "source": [
    "## load the pretrained model with relu activation\n",
    "model = load_model('simple_rnn_imdb.h5')\n",
    "model.summary()"
   ]
  },
  {
   "cell_type": "code",
   "execution_count": 4,
   "metadata": {},
   "outputs": [
    {
     "data": {
      "text/plain": [
       "[array([[-1.0151759e+00, -1.2321651e+00,  9.0150256e-03, ...,\n",
       "          7.5724959e-01,  2.9275429e-01, -1.3120067e+00],\n",
       "        [-9.1676116e-02, -1.4593273e-01, -8.3719753e-02, ...,\n",
       "         -6.4188436e-02,  6.7185268e-02, -3.7224084e-02],\n",
       "        [-1.5007822e-01, -3.3570176e-01,  4.0740240e-02, ...,\n",
       "          7.2341248e-02,  2.0491379e-01, -1.4943042e-01],\n",
       "        ...,\n",
       "        [ 4.5056324e-02, -9.6015140e-02, -4.4938747e-02, ...,\n",
       "         -7.0982635e-02,  7.2438531e-02, -7.1224920e-02],\n",
       "        [ 5.0009407e-02,  4.4231214e-02, -2.3750430e-02, ...,\n",
       "          2.4102889e-02, -1.2015802e-03,  7.3699534e-02],\n",
       "        [ 8.0036268e-02,  4.1564249e-02, -7.3534437e-02, ...,\n",
       "         -7.3766008e-02, -5.1083274e-02, -1.3445471e-02]], dtype=float32),\n",
       " array([[ 0.11122455, -0.12772726,  0.19472228, ..., -0.06527977,\n",
       "         -0.1200473 ,  0.02489692],\n",
       "        [ 0.16800772,  0.1639974 ,  0.01707127, ...,  0.15648359,\n",
       "          0.06450961, -0.10589346],\n",
       "        [-0.09053675,  0.08735231, -0.01915194, ..., -0.13524747,\n",
       "         -0.01840957,  0.091397  ],\n",
       "        ...,\n",
       "        [ 0.09104265,  0.08529046,  0.11495829, ..., -0.05907729,\n",
       "         -0.04889165,  0.11772363],\n",
       "        [-0.13782541, -0.03227218, -0.12465925, ..., -0.16208644,\n",
       "         -0.2127427 ,  0.09638706],\n",
       "        [-0.14108953,  0.01393783,  0.06789647, ...,  0.01342691,\n",
       "         -0.05266797,  0.04676697]], dtype=float32),\n",
       " array([[ 0.01822065,  0.00962428,  0.00715937, ...,  0.08744948,\n",
       "         -0.05237223, -0.04312733],\n",
       "        [-0.06792553, -0.17814057,  0.15092699, ..., -0.0466239 ,\n",
       "         -0.09848499, -0.12104817],\n",
       "        [-0.0012738 ,  0.12621933, -0.05538913, ...,  0.13527718,\n",
       "         -0.07726087,  0.02427186],\n",
       "        ...,\n",
       "        [-0.02710353, -0.07113802,  0.03144236, ...,  0.04568281,\n",
       "         -0.00531287,  0.03977058],\n",
       "        [ 0.02462966,  0.09581926,  0.04652748, ..., -0.06348902,\n",
       "          0.05719212, -0.03922597],\n",
       "        [-0.22767231, -0.03660432,  0.13397712, ..., -0.07462597,\n",
       "         -0.155414  , -0.1494803 ]], dtype=float32),\n",
       " array([-0.04103689, -0.04761552, -0.03909786, -0.03760714, -0.03539841,\n",
       "        -0.00872758, -0.03087967, -0.03122985, -0.03387214, -0.04763993,\n",
       "        -0.02461159, -0.0232134 , -0.03211593, -0.03122163, -0.03295604,\n",
       "        -0.03270947, -0.04090738, -0.0118777 , -0.0480768 ,  0.00680498,\n",
       "         0.01257034, -0.00527498, -0.00078895,  0.02764443, -0.03830905,\n",
       "        -0.04943433, -0.04074494, -0.04644955, -0.02048716,  0.03939212,\n",
       "         0.03829534, -0.0172793 , -0.0075782 , -0.01610141, -0.02776787,\n",
       "         0.00917304, -0.03223977,  0.01193512, -0.02645721,  0.02412556,\n",
       "        -0.0345944 , -0.01829729, -0.03979687,  0.0520394 ,  0.0027347 ,\n",
       "        -0.03767938, -0.05233513, -0.02431369, -0.00604382, -0.03682575,\n",
       "        -0.03146436, -0.02913434, -0.03518166, -0.01715465,  0.00999469,\n",
       "         0.01498736,  0.00635659, -0.02878138, -0.00837793,  0.0153859 ,\n",
       "         0.01773953, -0.00364245, -0.05093174, -0.05656259, -0.0459324 ,\n",
       "        -0.01403526, -0.00087473, -0.01175884,  0.0234421 , -0.03539056,\n",
       "        -0.04208475, -0.01901238, -0.04938909,  0.01045984, -0.02942062,\n",
       "         0.01058046, -0.0151899 , -0.04665209,  0.02161148, -0.03707985,\n",
       "        -0.03740276, -0.02256861, -0.02717564, -0.04998986,  0.01955189,\n",
       "        -0.02127211, -0.06756748, -0.03691632, -0.03729308,  0.01080245,\n",
       "        -0.04054756, -0.05021958,  0.04140606, -0.07216442, -0.03732997,\n",
       "        -0.00248452, -0.0259084 ,  0.02151318, -0.03102252,  0.0660891 ,\n",
       "        -0.01438145, -0.03230923, -0.00123405, -0.02515194, -0.03439729,\n",
       "         0.03345204, -0.06909009, -0.02288292,  0.04147025, -0.04344888,\n",
       "        -0.0141638 ,  0.10907254, -0.03029506, -0.04198904,  0.01929048,\n",
       "        -0.00277473,  0.01277342, -0.03966814,  0.01863911, -0.05962861,\n",
       "        -0.03557418, -0.00313363, -0.0431124 , -0.01134434, -0.03946096,\n",
       "        -0.01026354, -0.02553905, -0.01088455], dtype=float32),\n",
       " array([[ 0.25792286],\n",
       "        [ 0.18255258],\n",
       "        [-0.00564618],\n",
       "        [-0.15108679],\n",
       "        [ 0.11834907],\n",
       "        [-0.13757275],\n",
       "        [-0.08962791],\n",
       "        [ 0.01331992],\n",
       "        [-0.0801678 ],\n",
       "        [ 0.10025901],\n",
       "        [-0.08871117],\n",
       "        [-0.05286366],\n",
       "        [ 0.0222625 ],\n",
       "        [ 0.20664617],\n",
       "        [ 0.11395878],\n",
       "        [ 0.25406435],\n",
       "        [ 0.04227655],\n",
       "        [ 0.16776201],\n",
       "        [ 0.18502137],\n",
       "        [ 0.02681248],\n",
       "        [ 0.08996197],\n",
       "        [-0.02225098],\n",
       "        [ 0.01782144],\n",
       "        [-0.09394554],\n",
       "        [-0.0920754 ],\n",
       "        [ 0.21509239],\n",
       "        [ 0.08184823],\n",
       "        [-0.10640233],\n",
       "        [ 0.22407159],\n",
       "        [ 0.16888915],\n",
       "        [-0.03034458],\n",
       "        [ 0.1348857 ],\n",
       "        [ 0.05247056],\n",
       "        [-0.24245372],\n",
       "        [ 0.3776369 ],\n",
       "        [-0.0656148 ],\n",
       "        [ 0.01737817],\n",
       "        [-0.17421994],\n",
       "        [-0.03095059],\n",
       "        [-0.1954083 ],\n",
       "        [ 0.17996447],\n",
       "        [-0.24888512],\n",
       "        [ 0.18038873],\n",
       "        [-0.15757687],\n",
       "        [-0.21885167],\n",
       "        [ 0.06362746],\n",
       "        [-0.02354077],\n",
       "        [-0.0618064 ],\n",
       "        [-0.31462154],\n",
       "        [-0.16124561],\n",
       "        [ 0.17160787],\n",
       "        [ 0.22352116],\n",
       "        [ 0.1560906 ],\n",
       "        [ 0.3743931 ],\n",
       "        [-0.18130791],\n",
       "        [ 0.22478968],\n",
       "        [-0.13459918],\n",
       "        [ 0.10187049],\n",
       "        [-0.13885859],\n",
       "        [-0.1931862 ],\n",
       "        [-0.15379544],\n",
       "        [ 0.01200509],\n",
       "        [ 0.18401816],\n",
       "        [-0.17539549],\n",
       "        [-0.40648776],\n",
       "        [-0.19590107],\n",
       "        [-0.03693535],\n",
       "        [-0.10509232],\n",
       "        [-0.18026656],\n",
       "        [-0.17278872],\n",
       "        [-0.02235174],\n",
       "        [-0.08022428],\n",
       "        [-0.06493469],\n",
       "        [-0.12867628],\n",
       "        [ 0.09020934],\n",
       "        [-0.13491744],\n",
       "        [ 0.2117859 ],\n",
       "        [ 0.04738227],\n",
       "        [ 0.16418687],\n",
       "        [ 0.09960262],\n",
       "        [-0.00169969],\n",
       "        [-0.11367801],\n",
       "        [ 0.1566809 ],\n",
       "        [-0.17150034],\n",
       "        [ 0.02014601],\n",
       "        [-0.21613686],\n",
       "        [-0.12231078],\n",
       "        [ 0.03339017],\n",
       "        [-0.1493117 ],\n",
       "        [-0.15303048],\n",
       "        [-0.18894324],\n",
       "        [-0.11413763],\n",
       "        [ 0.20472313],\n",
       "        [-0.46101385],\n",
       "        [ 0.23491612],\n",
       "        [-0.21306323],\n",
       "        [ 0.07682725],\n",
       "        [-0.24993338],\n",
       "        [-0.17496191],\n",
       "        [ 0.01743831],\n",
       "        [-0.06276169],\n",
       "        [-0.14203644],\n",
       "        [-0.24514139],\n",
       "        [-0.20806924],\n",
       "        [ 0.23479888],\n",
       "        [-0.13881896],\n",
       "        [-0.18887137],\n",
       "        [-0.07619707],\n",
       "        [ 0.45132047],\n",
       "        [ 0.15070482],\n",
       "        [-0.05000538],\n",
       "        [-0.1632638 ],\n",
       "        [ 0.2532007 ],\n",
       "        [-0.07957938],\n",
       "        [ 0.20546252],\n",
       "        [ 0.14821151],\n",
       "        [-0.00382354],\n",
       "        [-0.10087959],\n",
       "        [ 0.34591302],\n",
       "        [-0.00444233],\n",
       "        [ 0.08133946],\n",
       "        [-0.1295321 ],\n",
       "        [-0.0562004 ],\n",
       "        [ 0.16045104],\n",
       "        [-0.10616486],\n",
       "        [-0.1892493 ],\n",
       "        [-0.21932603],\n",
       "        [ 0.07148081]], dtype=float32),\n",
       " array([0.17861125], dtype=float32)]"
      ]
     },
     "execution_count": 4,
     "metadata": {},
     "output_type": "execute_result"
    }
   ],
   "source": [
    "model.get_weights()"
   ]
  },
  {
   "cell_type": "code",
   "execution_count": 6,
   "metadata": {},
   "outputs": [],
   "source": [
    "## step 2: helper functions\n",
    "# function to decode reviews \n",
    "\n",
    "def decode_review(encoded_review):\n",
    "    return ' '.join([reverse_word_index.get(i-3,'?') for i in encoded_review])\n",
    "\n",
    "#3 function to preprocess user input\n",
    "\n",
    "def preprocess_text(text):\n",
    "    words = text.lower().split()\n",
    "    encoded_review = [word_index.get(word,2)+3 for word in words]\n",
    "    padded_review = sequence.pad_sequences([encoded_review],maxlen=500)\n",
    "    return padded_review"
   ]
  },
  {
   "cell_type": "code",
   "execution_count": 7,
   "metadata": {},
   "outputs": [],
   "source": [
    "## prediction function\n",
    "\n",
    "def predict_sentiment(review):\n",
    "    preprocessed_input=preprocess_text(review)\n",
    "    prediction=model.predict(preprocessed_input)\n",
    "    sentiment = 'Positive' if prediction[0][0] > 0.5 else 'Negative'\n",
    "    return sentiment,prediction[0][0]\n"
   ]
  },
  {
   "cell_type": "code",
   "execution_count": 8,
   "metadata": {},
   "outputs": [
    {
     "name": "stdout",
     "output_type": "stream",
     "text": [
      "\u001b[1m1/1\u001b[0m \u001b[32m━━━━━━━━━━━━━━━━━━━━\u001b[0m\u001b[37m\u001b[0m \u001b[1m2s\u001b[0m 2s/step\n",
      "Review: This movie was fantastic! The acting was great and plot was thrilling.\n",
      "Sentiment: Positive\n",
      "Prediction Score:  0.991011917591095\n"
     ]
    }
   ],
   "source": [
    "## step 4 user input and rediction\n",
    "## example review for prediction\n",
    "\n",
    "example_review=\"This movie was fantastic! The acting was great and plot was thrilling.\"\n",
    "sentiment,score=predict_sentiment(example_review)\n",
    "print(f'Review: {example_review}')\n",
    "print(f'Sentiment: {sentiment}')\n",
    "print(f'Prediction Score:  {score}')"
   ]
  },
  {
   "cell_type": "code",
   "execution_count": null,
   "metadata": {},
   "outputs": [],
   "source": []
  }
 ],
 "metadata": {
  "kernelspec": {
   "display_name": ".venv",
   "language": "python",
   "name": "python3"
  },
  "language_info": {
   "codemirror_mode": {
    "name": "ipython",
    "version": 3
   },
   "file_extension": ".py",
   "mimetype": "text/x-python",
   "name": "python",
   "nbconvert_exporter": "python",
   "pygments_lexer": "ipython3",
   "version": "3.12.1"
  }
 },
 "nbformat": 4,
 "nbformat_minor": 2
}
